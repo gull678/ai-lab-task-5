{
  "nbformat": 4,
  "nbformat_minor": 0,
  "metadata": {
    "colab": {
      "provenance": []
    },
    "kernelspec": {
      "name": "python3",
      "display_name": "Python 3"
    },
    "language_info": {
      "name": "python"
    }
  },
  "cells": [
    {
      "cell_type": "code",
      "execution_count": null,
      "metadata": {
        "id": "WOaX-rGfd7c4",
        "colab": {
          "base_uri": "https://localhost:8080/"
        },
        "outputId": "fe6315ee-b35e-4f21-97b0-015b7d21c488"
      },
      "outputs": [
        {
          "output_type": "stream",
          "name": "stdout",
          "text": [
            "dataset preview\n",
            "dataset info\n",
            "<class 'pandas.core.frame.DataFrame'>\n",
            "RangeIndex: 9999 entries, 0 to 9998\n",
            "Columns: 785 entries, 7 to 0.667\n",
            "dtypes: int64(785)\n",
            "memory usage: 59.9 MB\n",
            "dataset summary\n"
          ]
        }
      ],
      "source": [
        "import pandas as pd\n",
        "import matplotlib.pyplot as plt\n",
        "import seaborn as sns\n",
        "\n",
        "file_path = '/content/sample_data/mnist_test.csv'\n",
        "data = pd.read_csv(file_path)\n",
        "\n",
        "print(\"dataset preview\")\n",
        "data.head()\n",
        "\n",
        "print(\"dataset info\")\n",
        "data.info()\n",
        "\n",
        "print(\"dataset summary\")\n",
        "data.describe()\n",
        "\n",
        "plt.figure(figsize=(6,4))\n",
        "plt.title(\"correlation matrix\")\n",
        "plt.show()"
      ]
    }
  ]
}