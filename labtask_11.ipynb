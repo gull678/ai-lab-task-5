{
  "nbformat": 4,
  "nbformat_minor": 0,
  "metadata": {
    "colab": {
      "provenance": []
    },
    "kernelspec": {
      "name": "python3",
      "display_name": "Python 3"
    },
    "language_info": {
      "name": "python"
    }
  },
  "cells": [
    {
      "cell_type": "code",
      "execution_count": 1,
      "metadata": {
        "colab": {
          "base_uri": "https://localhost:8080/",
          "height": 530
        },
        "id": "SFzaiH3chSWn",
        "outputId": "85988068-1073-4ce0-c687-31ff6ebc1def"
      },
      "outputs": [
        {
          "output_type": "stream",
          "name": "stdout",
          "text": [
            "dataset preview\n",
            "dataset info\n",
            "<class 'pandas.core.frame.DataFrame'>\n",
            "RangeIndex: 9999 entries, 0 to 9998\n",
            "Columns: 785 entries, 7 to 0.667\n",
            "dtypes: int64(785)\n",
            "memory usage: 59.9 MB\n",
            "dataset summary\n"
          ]
        },
        {
          "output_type": "display_data",
          "data": {
            "text/plain": [
              "<Figure size 600x400 with 1 Axes>"
            ],
            "image/png": "[encoded data removed]"
          },
          "metadata": {}
        }
      ],
      "source": [
        "import pandas as pd\n",
        "import matplotlib.pyplot as plt\n",
        "import seaborn as sns\n",
        "\n",
        "file_path = '/content/sample_data/mnist_test.csv'\n",
        "data = pd.read_csv(file_path)\n",
        "\n",
        "print(\"dataset preview\")\n",
        "data.head()\n",
        "\n",
        "print(\"dataset info\")\n",
        "data.info()\n",
        "\n",
        "print(\"dataset summary\")\n",
        "data.describe()\n",
        "\n",
        "plt.figure(figsize=(6,4))\n",
        "plt.title(\"correlation matrix\")\n",
        "plt.show()"
      ]
    },
    {
      "cell_type": "code",
      "source": [
        "from sklearn.model_selection import train_test_split\n",
        "from sklearn.preprocessing import StandardScaler\n",
        "from sklearn.svm import SVC\n",
        "from sklearn.metrics import classification_report, accuracy_score\n",
        "print(\"Preprocessing\")\n",
        "x = data.iloc[::1]\n",
        "y = data.iloc[:,0]\n",
        "\n",
        "scaler = StandardScaler()\n",
        "x_scaled = scaler.fit_transform(x)\n",
        "X_train, X_test, y_train, y_test = train_test_split(x_scaled, y, test_size=0.2, random_state=42)\n",
        "\n",
        "svm_model = SVC(kernel='linear', random_state = 42)\n",
        "svm_model.fit(X_train, y_train)\n",
        "\n",
        "y_pred = svm_model.predict(X_test)\n",
        "print(\"classification_report\\n\", classification_report(y_test, y_pred))\n",
        "print(\"accuracy\", accuracy_score(y_test, y_pred))\n",
        "\n"
      ],
      "metadata": {
        "colab": {
          "base_uri": "https://localhost:8080/"
        },
        "id": "7U2D1mg4ruS4",
        "outputId": "8fc3d18f-a4a4-4b2e-9820-ddd6b6533f3e"
      },
      "execution_count": 3,
      "outputs": [
        {
          "output_type": "stream",
          "name": "stdout",
          "text": [
            "Preprocessing\n",
            "classification_report\n",
            "               precision    recall  f1-score   support\n",
            "\n",
            "           0       0.98      0.97      0.97       205\n",
            "           1       0.97      1.00      0.99       218\n",
            "           2       0.91      0.94      0.92       192\n",
            "           3       0.96      0.93      0.94       201\n",
            "           4       0.96      0.97      0.96       205\n",
            "           5       0.93      0.94      0.94       198\n",
            "           6       0.96      0.98      0.97       186\n",
            "           7       0.96      0.96      0.96       193\n",
            "           8       0.98      0.93      0.95       191\n",
            "           9       0.97      0.95      0.96       211\n",
            "\n",
            "    accuracy                           0.96      2000\n",
            "   macro avg       0.96      0.96      0.96      2000\n",
            "weighted avg       0.96      0.96      0.96      2000\n",
            "\n",
            "accuracy 0.9575\n"
          ]
        }
      ]
    }
  ]
}
